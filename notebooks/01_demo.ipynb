{
 "cells": [
  {
   "cell_type": "code",
   "execution_count": 2,
   "metadata": {
    "collapsed": true,
    "ExecuteTime": {
     "start_time": "2024-04-15T17:33:14.890373Z",
     "end_time": "2024-04-15T17:33:15.077060Z"
    }
   },
   "outputs": [
    {
     "name": "stdout",
     "output_type": "stream",
     "text": [
      "/bin/bash: warning: setlocale: LC_ALL: cannot change locale (en_US.UTF-8)\r\n",
      "Mon Apr 15 13:33:15 2024       \r\n",
      "+---------------------------------------------------------------------------------------+\r\n",
      "| NVIDIA-SMI 535.129.03             Driver Version: 535.129.03   CUDA Version: 12.2     |\r\n",
      "|-----------------------------------------+----------------------+----------------------+\r\n",
      "| GPU  Name                 Persistence-M | Bus-Id        Disp.A | Volatile Uncorr. ECC |\r\n",
      "| Fan  Temp   Perf          Pwr:Usage/Cap |         Memory-Usage | GPU-Util  Compute M. |\r\n",
      "|                                         |                      |               MIG M. |\r\n",
      "|=========================================+======================+======================|\r\n",
      "|   0  NVIDIA GeForce RTX 3060        On  | 00000000:03:00.0 Off |                  N/A |\r\n",
      "|  0%   45C    P8               8W / 170W |      2MiB / 12288MiB |      0%      Default |\r\n",
      "|                                         |                      |                  N/A |\r\n",
      "+-----------------------------------------+----------------------+----------------------+\r\n",
      "                                                                                         \r\n",
      "+---------------------------------------------------------------------------------------+\r\n",
      "| Processes:                                                                            |\r\n",
      "|  GPU   GI   CI        PID   Type   Process name                            GPU Memory |\r\n",
      "|        ID   ID                                                             Usage      |\r\n",
      "|=======================================================================================|\r\n",
      "|  No running processes found                                                           |\r\n",
      "+---------------------------------------------------------------------------------------+\r\n"
     ]
    }
   ],
   "source": [
    "!nvidia-smi"
   ]
  },
  {
   "cell_type": "code",
   "execution_count": 4,
   "outputs": [
    {
     "name": "stdout",
     "output_type": "stream",
     "text": [
      "/bin/bash: warning: setlocale: LC_ALL: cannot change locale (en_US.UTF-8)\r\n",
      "/tmp/pycharm_project_494/notebooks\r\n"
     ]
    }
   ],
   "source": [
    "!pwd"
   ],
   "metadata": {
    "collapsed": false,
    "ExecuteTime": {
     "start_time": "2024-04-15T17:11:38.650256Z",
     "end_time": "2024-04-15T17:11:38.897759Z"
    }
   }
  },
  {
   "cell_type": "code",
   "execution_count": 3,
   "outputs": [
    {
     "name": "stdout",
     "output_type": "stream",
     "text": [
      "/bin/bash: warning: setlocale: LC_ALL: cannot change locale (en_US.UTF-8)\r\n",
      "LICENSE\t\t      evaluate_on_euroc.sh\t    images\tsetup.py\r\n",
      "README.md\t      evaluate_on_replica.sh\t    notebooks\tsrc\r\n",
      "configs\t\t      evaluate_on_scannet.sh\t    pretrained\tthirdparty\r\n",
      "environment.yaml      evaluate_on_tum.sh\t    run.py\r\n",
      "evaluate_on_eth3d.sh  generate_video_on_scannet.sh  scripts\r\n"
     ]
    }
   ],
   "source": [
    "!ls /tmp/pycharm_project_494"
   ],
   "metadata": {
    "collapsed": false,
    "ExecuteTime": {
     "start_time": "2024-04-15T16:56:33.299746Z",
     "end_time": "2024-04-15T16:56:33.415532Z"
    }
   }
  },
  {
   "cell_type": "code",
   "execution_count": 7,
   "outputs": [
    {
     "name": "stdout",
     "output_type": "stream",
     "text": [
      "/bin/bash: warning: setlocale: LC_ALL: cannot change locale (en_US.UTF-8)\r\n",
      "    - traitlets==5.1.1\r\n",
      "    - trimesh==3.10.7\r\n",
      "    - urllib3==1.26.9\r\n",
      "    - wcwidth==0.2.5\r\n",
      "    - webencodings==0.5.1\r\n",
      "    - websocket-client==1.3.2\r\n",
      "    - widgetsnbextension==3.6.0\r\n",
      "    - zipp==3.7.0\r\n",
      "    - PyOpenGL-accelerate==3.1.6\r\n",
      "    - pyrender==0.1.45\r\n"
     ]
    }
   ],
   "source": [
    "!tail ../environment.yaml"
   ],
   "metadata": {
    "collapsed": false,
    "ExecuteTime": {
     "start_time": "2024-04-15T17:12:23.808523Z",
     "end_time": "2024-04-15T17:12:23.872052Z"
    }
   }
  },
  {
   "cell_type": "code",
   "execution_count": 1,
   "outputs": [
    {
     "name": "stdout",
     "output_type": "stream",
     "text": [
      "/bin/bash: warning: setlocale: LC_ALL: cannot change locale (en_US.UTF-8)\r\n",
      "/bin/bash: line 1: micromamba: command not found\r\n"
     ]
    }
   ],
   "source": [
    "!micromamba"
   ],
   "metadata": {
    "collapsed": false,
    "ExecuteTime": {
     "start_time": "2024-04-15T17:19:12.904055Z",
     "end_time": "2024-04-15T17:19:13.023853Z"
    }
   }
  },
  {
   "cell_type": "code",
   "execution_count": 3,
   "outputs": [
    {
     "name": "stdout",
     "output_type": "stream",
     "text": [
      "/bin/bash: warning: setlocale: LC_ALL: cannot change locale (en_US.UTF-8)\r\n",
      "total 32\r\n",
      "drwxr-x--- 10 developer developer 4096 Apr 15 13:17 .\r\n",
      "drwxr-xr-x  1 root      root        23 Apr 15 12:09 ..\r\n",
      "-rw-------  1 developer developer  205 Apr 15 13:14 .bash_history\r\n",
      "-rw-r--r--  1 developer developer  220 Apr 15 12:09 .bash_logout\r\n",
      "-rw-r--r--  1 developer developer 4256 Apr 15 13:17 .bashrc\r\n",
      "drwx------  3 developer developer   45 Apr 15 12:46 .cache\r\n",
      "-rw-rw-r--  1 developer developer   66 Apr 15 13:17 .condarc\r\n",
      "drwxrwxr-x  3 developer developer   29 Apr 15 12:55 .ipython\r\n",
      "drwxrwxr-x  2 developer developer   22 Apr 15 12:49 .jupyter\r\n",
      "drwxrwxr-x  4 developer developer   30 Apr 15 13:17 .local\r\n",
      "-rw-r--r--  1 developer developer  807 Apr 15 12:09 .profile\r\n",
      "drwxrwxr-x 17 developer developer 4096 Apr 15 12:46 .pycharm_helpers\r\n",
      "drwxr-xr-x  2 root      root        29 Apr 15 12:40 .ssh\r\n",
      "drwxrwxr-x  3 developer developer   21 Apr 15 12:45 .virtualenvs\r\n",
      "drwxrwxr-x  5 developer developer   47 Apr 15 13:30 micromamba\r\n"
     ]
    }
   ],
   "source": [
    "!ls -la ~"
   ],
   "metadata": {
    "collapsed": false,
    "ExecuteTime": {
     "start_time": "2024-04-15T17:33:37.010048Z",
     "end_time": "2024-04-15T17:33:37.126549Z"
    }
   }
  },
  {
   "cell_type": "code",
   "execution_count": 7,
   "outputs": [
    {
     "name": "stdout",
     "output_type": "stream",
     "text": [
      "/bin/bash: warning: setlocale: LC_ALL: cannot change locale (en_US.UTF-8)\r\n",
      "0\t/home/developer/micromamba/conda-meta\r\n",
      "4.0K\t/home/developer/micromamba/etc\r\n",
      "511M\t/home/developer/micromamba/pkgs\r\n"
     ]
    }
   ],
   "source": [
    "!du -sh ~/micromamba/*"
   ],
   "metadata": {
    "collapsed": false,
    "ExecuteTime": {
     "start_time": "2024-04-15T17:34:18.123716Z",
     "end_time": "2024-04-15T17:34:18.237340Z"
    }
   }
  },
  {
   "cell_type": "code",
   "execution_count": null,
   "outputs": [],
   "source": [
    "!mkdir -p Datasets\n",
    "!wget --content-disposition \"https://cvg-data.inf.ethz.ch/nice-slam/data/Replica.zip\" -P Datasets/\n",
    "!unzip Datasets/Replica.zip -q -d Datasets/"
   ],
   "metadata": {
    "collapsed": false
   }
  },
  {
   "cell_type": "markdown",
   "source": [
    "```\n",
    "mkdir -p Datasets && \\\n",
    "wget --content-disposition \"https://cvg-data.inf.ethz.ch/nice-slam/data/Replica.zip\" -P Datasets/ && \\\n",
    "unzip Datasets/Replica.zip -q -d Datasets/\n",
    "```"
   ],
   "metadata": {
    "collapsed": false
   }
  },
  {
   "cell_type": "code",
   "execution_count": null,
   "outputs": [],
   "source": [
    "!git submodule update --init --recursive"
   ],
   "metadata": {
    "collapsed": false
   }
  },
  {
   "cell_type": "code",
   "execution_count": 7,
   "outputs": [
    {
     "ename": "ModuleNotFoundError",
     "evalue": "No module named 'pydev_jupyter_utils'",
     "output_type": "error",
     "traceback": [
      "\u001B[0;31m---------------------------------------------------------------------------\u001B[0m",
      "\u001B[0;31mModuleNotFoundError\u001B[0m                       Traceback (most recent call last)",
      "Cell \u001B[0;32mIn[8], line 6\u001B[0m\n\u001B[1;32m      4\u001B[0m     sys\u001B[38;5;241m.\u001B[39mpath\u001B[38;5;241m.\u001B[39minsert(\u001B[38;5;241m0\u001B[39m, \u001B[38;5;124m'\u001B[39m\u001B[38;5;124m/Applications/PyCharm.app/Contents/plugins/python/helpers/pydev\u001B[39m\u001B[38;5;124m'\u001B[39m)\n\u001B[1;32m      5\u001B[0m     sys\u001B[38;5;241m.\u001B[39mpath\u001B[38;5;241m.\u001B[39minsert(\u001B[38;5;241m0\u001B[39m, \u001B[38;5;124m'\u001B[39m\u001B[38;5;124m/Applications/PyCharm.app/Contents/plugins/python/helpers-pro/jupyter_debug\u001B[39m\u001B[38;5;124m'\u001B[39m)\n\u001B[0;32m----> 6\u001B[0m \u001B[38;5;28;01mfrom\u001B[39;00m \u001B[38;5;21;01mpydev_jupyter_utils\u001B[39;00m \u001B[38;5;28;01mimport\u001B[39;00m remove_imported_pydev_package\n\u001B[1;32m      7\u001B[0m remove_imported_pydev_package()\n\u001B[1;32m      8\u001B[0m \u001B[38;5;28;01mimport\u001B[39;00m \u001B[38;5;21;01mpydev_jupyter_utils\u001B[39;00m\n",
      "\u001B[0;31mModuleNotFoundError\u001B[0m: No module named 'pydev_jupyter_utils'"
     ]
    }
   ],
   "source": [
    "def pow_2(val):\n",
    "    return val ** 2\n",
    "\n",
    "v1 = pow_2(2)\n",
    "v2 = pow_2(3)"
   ],
   "metadata": {
    "collapsed": false
   }
  }
 ],
 "metadata": {
  "kernelspec": {
   "display_name": "Python 3",
   "language": "python",
   "name": "python3"
  },
  "language_info": {
   "codemirror_mode": {
    "name": "ipython",
    "version": 2
   },
   "file_extension": ".py",
   "mimetype": "text/x-python",
   "name": "python",
   "nbconvert_exporter": "python",
   "pygments_lexer": "ipython2",
   "version": "2.7.6"
  }
 },
 "nbformat": 4,
 "nbformat_minor": 0
}
